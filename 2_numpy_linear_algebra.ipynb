{
  "nbformat": 4,
  "nbformat_minor": 0,
  "metadata": {
    "colab": {
      "private_outputs": true,
      "provenance": [],
      "authorship_tag": "ABX9TyOtAExPcYv51qBlu0gEZCAz",
      "include_colab_link": true
    },
    "kernelspec": {
      "name": "python3",
      "display_name": "Python 3"
    },
    "language_info": {
      "name": "python"
    },
    "gpuClass": "standard"
  },
  "cells": [
    {
      "cell_type": "markdown",
      "metadata": {
        "id": "view-in-github",
        "colab_type": "text"
      },
      "source": [
        "<a href=\"https://colab.research.google.com/github/melpes/datascienceschool/blob/main/2_numpy_linear_algebra.ipynb\" target=\"_parent\"><img src=\"https://colab.research.google.com/assets/colab-badge.svg\" alt=\"Open In Colab\"/></a>"
      ]
    },
    {
      "cell_type": "code",
      "source": [
        "import matplotlib as mpl\n",
        "import matplotlib.pylab as plt\n",
        "from mpl_toolkits.mplot3d import Axes3D\n",
        "import seaborn as sns\n",
        "import numpy as np\n",
        "import scipy as sp\n",
        "import pandas as pd\n",
        "import statsmodels.api as sm\n",
        "import sklearn as sk"
      ],
      "metadata": {
        "id": "wprBOQdaxrif"
      },
      "execution_count": null,
      "outputs": []
    },
    {
      "cell_type": "code",
      "execution_count": null,
      "metadata": {
        "id": "JohKtoRKmggX"
      },
      "outputs": [],
      "source": [
        "from sklearn.datasets import load_digits\n",
        "import matplotlib.gridspec as gridspec"
      ]
    },
    {
      "cell_type": "code",
      "source": [
        "digits = load_digits()\n",
        "d1 = digits.images[0]\n",
        "d2 = digits.images[10]\n",
        "d3 = digits.images[1]\n",
        "d4 = digits.images[11]\n",
        "\n",
        "v1 = d1.reshape(64, 1)\n",
        "v2 = d2.reshape(64, 1)\n",
        "v3 = d3.reshape(64, 1)\n",
        "v4 = d4.reshape(64, 1)"
      ],
      "metadata": {
        "id": "_jlQ1elbvZSm"
      },
      "execution_count": null,
      "outputs": []
    },
    {
      "cell_type": "code",
      "source": [
        "plt.figure(figsize=(9, 9))\n",
        "gs = gridspec.GridSpec(1, 8, height_ratios=[1], width_ratios=[9, 1] * 4)"
      ],
      "metadata": {
        "id": "qB2p7A-QxHWG"
      },
      "execution_count": null,
      "outputs": []
    },
    {
      "cell_type": "code",
      "source": [
        "for i in range(4):\n",
        "  plt.subplot(gs[2 * i]) # 그리드 시스템인듯\n",
        "  plt.imshow(eval('d' + str(i + 1)), aspect=1, interpolation='nearest', cmap=plt.cm.bone_r)\n",
        "  plt.grid(False)\n",
        "  plt.xticks([])\n",
        "  plt.yticks([])\n",
        "  plt.title(f\"image {i + 1}\")\n",
        "  plt.subplot(gs[2 * i + 1])\n",
        "  plt.imshow(eval('v' + str(i + 1)), aspect=0.25, interpolation='nearest', cmap=plt.cm.bone_r)\n",
        "  plt.grid(False)\n",
        "  plt.xticks([])\n",
        "  plt.yticks([])\n",
        "  plt.title(f'vector {i + 1}')\n",
        "plt.tight_layout()\n",
        "plt.show()"
      ],
      "metadata": {
        "id": "mhjT9ws9yGi2"
      },
      "execution_count": null,
      "outputs": []
    },
    {
      "cell_type": "markdown",
      "source": [
        "벡터의 내적값으로 유사도를 판단할 수 있다."
      ],
      "metadata": {
        "id": "8XU3TAxS4beX"
      }
    },
    {
      "cell_type": "code",
      "source": [
        "np.array([[(v1.T @ v2)[0, 0], (v3.T @ v4)[0, 0]], [(v1.T @ v3)[0, 0], (v2.T @ v4)[0, 0]]], int)"
      ],
      "metadata": {
        "id": "4282_JdJ16zw"
      },
      "execution_count": null,
      "outputs": []
    },
    {
      "cell_type": "markdown",
      "source": [
        "연습문제 2.2.3\n",
        "MNIST 숫자 이미지 전체 데이터를 하나의 넘파이 행렬 x로 만들어라.\n",
        "1. 내적을 이용해 1번째, 10번째 이미지의 유사도를 구하라.\n",
        "2. 내적을 이용해 모든 이미지의 조합에 대한 유사도를 구하라."
      ],
      "metadata": {
        "id": "LQgpvJpB4vBw"
      }
    },
    {
      "cell_type": "code",
      "source": [
        "x = load_digits().data"
      ],
      "metadata": {
        "id": "CSF33zwx5CqT"
      },
      "execution_count": null,
      "outputs": []
    },
    {
      "cell_type": "code",
      "source": [
        "x[0] @ x[10].T"
      ],
      "metadata": {
        "id": "sykekVnu5HIR"
      },
      "execution_count": null,
      "outputs": []
    },
    {
      "cell_type": "code",
      "source": [
        "(x @ x.T).astype(int)"
      ],
      "metadata": {
        "id": "ryCEJTHG52JP"
      },
      "execution_count": null,
      "outputs": []
    },
    {
      "cell_type": "markdown",
      "source": [
        "연습문제 2.2.4\n",
        "다음 행렬 A, B에 대해 AB = BA인가?"
      ],
      "metadata": {
        "id": "BUPw93j1D2li"
      }
    },
    {
      "cell_type": "code",
      "source": [
        "A = np.array([1, 2, 3])\n",
        "B = np.array([[4, 5, 6], [7, 8, 9]]).T\n",
        "A, B\n"
      ],
      "metadata": {
        "id": "g2Mr5tPDEYS7"
      },
      "execution_count": null,
      "outputs": []
    },
    {
      "cell_type": "code",
      "source": [
        "A @ B"
      ],
      "metadata": {
        "id": "bAscVljAE7eh"
      },
      "execution_count": null,
      "outputs": []
    },
    {
      "cell_type": "code",
      "source": [
        "# B @ A failed"
      ],
      "metadata": {
        "id": "irX7uTwwF-pJ"
      },
      "execution_count": null,
      "outputs": []
    },
    {
      "cell_type": "code",
      "source": [
        "A = np.arange(1, 5).reshape((2, 2))\n",
        "B = np.arange(5, 9).reshape((2, 2))\n",
        "A, B"
      ],
      "metadata": {
        "id": "VuFgR-g8GEdB"
      },
      "execution_count": null,
      "outputs": []
    },
    {
      "cell_type": "code",
      "source": [
        "A @ B, B @ A # A @ B != B @ A"
      ],
      "metadata": {
        "id": "nfJ92qFIGr2q"
      },
      "execution_count": null,
      "outputs": []
    },
    {
      "cell_type": "code",
      "source": [
        "A = np.arange(1, 7).reshape((3, 2))\n",
        "A"
      ],
      "metadata": {
        "id": "XSBIHtduGwqK"
      },
      "execution_count": null,
      "outputs": []
    },
    {
      "cell_type": "code",
      "source": [
        "A @ A.T, A.T @ A # 항상 정방행렬"
      ],
      "metadata": {
        "id": "7TUsVuKDG_AC"
      },
      "execution_count": null,
      "outputs": []
    },
    {
      "cell_type": "code",
      "source": [
        "x = np.arange(1, 4).reshape(3, 1)\n",
        "x"
      ],
      "metadata": {
        "id": "ywGGVnAXHJNj"
      },
      "execution_count": null,
      "outputs": []
    },
    {
      "cell_type": "code",
      "source": [
        "x @ x.T, x.T @ x # 순서에 따라 정방행렬인지 아닌지가 달라진다."
      ],
      "metadata": {
        "id": "39UTer_pHTbq"
      },
      "execution_count": null,
      "outputs": []
    },
    {
      "cell_type": "markdown",
      "source": [
        "연습 문제 2.2.5\n",
        "1. 길이가 같은 일벡터와 행벡터의 곱은 행벡터 x를 반복하여 가지는 행렬과 같음을 보여라.\n",
        "2. 행렬 x가 있을 때 이 행렬의 각 열의 평균으로 이루어진 벡터 **x**가 다음과 같음을 보여라.\n",
        "**x** = x.T @ one / N"
      ],
      "metadata": {
        "id": "BLcJdu4-INNa"
      }
    },
    {
      "cell_type": "code",
      "source": [
        "one = np.ones(5).reshape(5, 1)\n",
        "x = np.arange(5).reshape(5, 1)\n",
        "one, x, x.T"
      ],
      "metadata": {
        "id": "PXInnrhvIfQC"
      },
      "execution_count": null,
      "outputs": []
    },
    {
      "cell_type": "code",
      "source": [
        "one @ x.T"
      ],
      "metadata": {
        "id": "5hle7_eeJbcy"
      },
      "execution_count": null,
      "outputs": []
    },
    {
      "cell_type": "code",
      "source": [
        "x = np.arange(20).reshape(5, 4)\n",
        "x"
      ],
      "metadata": {
        "id": "IwqRbx2dKMBn"
      },
      "execution_count": null,
      "outputs": []
    },
    {
      "cell_type": "code",
      "source": [
        "x.mean(axis=0).reshape(4,), x.T @ one / one.size"
      ],
      "metadata": {
        "id": "mTrGnUomKhTC"
      },
      "execution_count": null,
      "outputs": []
    },
    {
      "cell_type": "code",
      "source": [
        "from sklearn.datasets import fetch_olivetti_faces\n",
        "\n",
        "faces = fetch_olivetti_faces()\n",
        "\n",
        "f, ax = plt.subplots(1, 3)\n",
        "\n",
        "ax[0].imshow(faces.images[6], cmap=plt.cm.bone)\n",
        "ax[0].grid(False)\n",
        "ax[0].set_xticks([])\n",
        "ax[0].set_yticks([])\n",
        "ax[0].set_title('image 1: $x_1$')\n",
        "\n",
        "ax[1].imshow(faces.images[10], cmap=plt.cm.bone)\n",
        "ax[1].grid(False)\n",
        "ax[1].set_xticks([])\n",
        "ax[1].set_yticks([])\n",
        "ax[1].set_title('image 2: $x_2$')\n",
        "\n",
        "new_face = 0.5 * faces.images[6] + 0.5 * faces.images[10]\n",
        "ax[2].imshow(new_face, cmap=plt.cm.bone)\n",
        "ax[2].grid(False)\n",
        "ax[2].set_xticks([])\n",
        "ax[2].set_yticks([])\n",
        "ax[2].set_title('image 3: $0.7x_1 + 0.3x_2$')\n",
        "\n",
        "plt.show()"
      ],
      "metadata": {
        "id": "FQJZGZtuR7pN"
      },
      "execution_count": null,
      "outputs": []
    },
    {
      "cell_type": "markdown",
      "source": [
        "연습문제 2.2.11\n",
        "다음 3차원 벡터와 행렬에 대해 이차형식을 쓰고 값을 계산하라"
      ],
      "metadata": {
        "id": "CVhU7sZjWlqV"
      }
    },
    {
      "cell_type": "code",
      "source": [
        "x = np.arange(1, 4).reshape(3, 1)\n",
        "A = np.arange(1, 10).reshape(3, 3)\n",
        "x, A"
      ],
      "metadata": {
        "id": "0SrPD5NWWqu0"
      },
      "execution_count": null,
      "outputs": []
    },
    {
      "cell_type": "code",
      "source": [
        "x.T @ A @ x"
      ],
      "metadata": {
        "id": "rdSLlggaWyVu"
      },
      "execution_count": null,
      "outputs": []
    },
    {
      "cell_type": "code",
      "source": [
        "x, x.T @ x"
      ],
      "metadata": {
        "id": "ZFUf7GpjYK7k"
      },
      "execution_count": null,
      "outputs": []
    },
    {
      "cell_type": "code",
      "source": [
        "A = np.arange(9).reshape((3, 3))\n",
        "A"
      ],
      "metadata": {
        "id": "vB8__ClIZgQ_"
      },
      "execution_count": null,
      "outputs": []
    }
  ]
}